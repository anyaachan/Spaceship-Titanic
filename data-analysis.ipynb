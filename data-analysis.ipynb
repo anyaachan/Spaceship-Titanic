{
 "cells": [
  {
   "cell_type": "code",
   "execution_count": 589,
   "metadata": {},
   "outputs": [],
   "source": [
    "import pandas as pd\n",
    "import numpy as np\n",
    "import matplotlib.pyplot as plt\n",
    "import re\n",
    "\n",
    "from sklearn.model_selection import train_test_split\n",
    "from sklearn.ensemble import RandomForestClassifier\n",
    "from sklearn.metrics import mean_absolute_error\n",
    "from sklearn.metrics import accuracy_score\n",
    "from sklearn.preprocessing import OrdinalEncoder\n",
    "from sklearn.impute import SimpleImputer\n"
   ]
  },
  {
   "cell_type": "code",
   "execution_count": 590,
   "metadata": {},
   "outputs": [],
   "source": [
    "# Read the data\n",
    "df_train = pd.read_csv('data/train.csv')\n",
    "df_test = pd.read_csv('data/test.csv')"
   ]
  },
  {
   "cell_type": "code",
   "execution_count": 591,
   "metadata": {},
   "outputs": [
    {
     "name": "stdout",
     "output_type": "stream",
     "text": [
      "['HomePlanet', 'CryoSleep', 'Cabin', 'Destination', 'Age', 'VIP', 'RoomService', 'FoodCourt', 'ShoppingMall', 'Spa', 'VRDeck', 'Name']\n",
      "PassengerId 0.0\n",
      "HomePlanet 2.312205222592891\n",
      "CryoSleep 2.4962613597147127\n",
      "Cabin 2.289198205452663\n",
      "Destination 2.093638559760727\n",
      "Age 2.0591280340503855\n",
      "VIP 2.3352122397331185\n",
      "RoomService 2.082135051190613\n",
      "FoodCourt 2.105142068330841\n",
      "ShoppingMall 2.392729782583688\n",
      "Spa 2.105142068330841\n",
      "VRDeck 2.1626596111814105\n",
      "Name 2.300701714022777\n",
      "Transported 0.0\n"
     ]
    }
   ],
   "source": [
    "#Determine if there is any columns with NaN values\n",
    "\n",
    "missing_cols = df_train.columns[df_train.isna().any()].tolist()\n",
    "print(missing_cols)\n",
    "\n",
    "# Almost all the columns have NaN values, so we need to determine the percentage of NaN values in each column\n",
    "\n",
    "def count_nans(df):\n",
    "    for col in df.columns:\n",
    "        print(col, df[col].isna().sum()/len(df[col])*100)\n",
    "\n",
    "count_nans(df_train)\n",
    "\n",
    "df_train = df_train[df_train['Cabin'].notna()]\n",
    "df_train[\"Transported\"] = df_train[\"Transported\"].astype(int)\n",
    "\n",
    "df_train = df_train.drop([\"Name\"], axis=1)"
   ]
  },
  {
   "cell_type": "code",
   "execution_count": 592,
   "metadata": {},
   "outputs": [],
   "source": [
    "# Select the target\n",
    "y = df_train.Transported\n",
    "# Select the features\n",
    "X = df_train.drop(['Transported', \"PassengerId\"], axis=1)\n",
    "\n",
    "#Divide the data into training and validation sets\n",
    "X_train, X_valid, y_train, y_valid = train_test_split(X, y, train_size=0.8, test_size=0.2, random_state=0)"
   ]
  },
  {
   "cell_type": "code",
   "execution_count": 593,
   "metadata": {},
   "outputs": [],
   "source": [
    "# Define the MAE function to compare the performance\n",
    "\n",
    "def mae(X_train, X_valid, y_train, y_valid):\n",
    "    model = RandomForestClassifier(n_estimators=50)\n",
    "    model.fit(X_train, y_train)\n",
    "    predictions = model.predict(X_valid)\n",
    "    accuracy = accuracy_score(y_valid, predictions)\n",
    "    \n",
    "    return accuracy"
   ]
  },
  {
   "cell_type": "code",
   "execution_count": 594,
   "metadata": {},
   "outputs": [
    {
     "name": "stdout",
     "output_type": "stream",
     "text": [
      "HomePlanet 2.2222222222222223\n",
      "CryoSleep 2.6342899190581313\n",
      "Cabin 0.0\n",
      "Destination 2.0897718910963947\n",
      "Age 2.0456217807211186\n",
      "VIP 2.251655629139073\n",
      "RoomService 2.0309050772626933\n",
      "FoodCourt 2.0161883738042676\n",
      "ShoppingMall 2.369389256806475\n",
      "Spa 2.0161883738042676\n",
      "VRDeck 2.1486387049300957\n"
     ]
    }
   ],
   "source": [
    "# print(X_train.sample(10))\n",
    "# print(X_valid.sample(3))\n",
    "\n",
    "def count_nans(df):\n",
    "    for col in df.columns:\n",
    "        print(col, df[col].isna().sum()/len(df[col])*100)\n",
    "\n",
    "count_nans(X_train)"
   ]
  },
  {
   "cell_type": "code",
   "execution_count": 595,
   "metadata": {},
   "outputs": [
    {
     "name": "stdout",
     "output_type": "stream",
     "text": [
      "     HomePlanet CryoSleep Cabin    Destination   Age    VIP  RoomService  \\\n",
      "7276     Europa     False   C/S    55 Cancri e  33.0  False          0.0   \n",
      "4319     Europa     False   C/S    TRAPPIST-1e  36.0  False          1.0   \n",
      "4351     Europa     False   C/S    TRAPPIST-1e  52.0  False          2.0   \n",
      "1164       Mars      True   E/P    TRAPPIST-1e  41.0  False          0.0   \n",
      "6612      Earth      True   G/S  PSO J318.5-22  20.0  False          0.0   \n",
      "6068      Earth     False   G/S    TRAPPIST-1e  31.0  False        294.0   \n",
      "7823      Earth     False   F/S  PSO J318.5-22  18.0  False          0.0   \n",
      "1854       Mars      True   F/P    TRAPPIST-1e  35.0  False          0.0   \n",
      "2171      Earth     False   G/S    TRAPPIST-1e  39.0  False          0.0   \n",
      "7599     Europa     False   C/S    55 Cancri e  58.0  False          0.0   \n",
      "\n",
      "      FoodCourt  ShoppingMall     Spa   VRDeck Cabin_Deck Cabin_Side  \n",
      "7276       73.0          31.0  8493.0   9065.0          C          S  \n",
      "4319     5234.0         343.0   277.0  12682.0          C          S  \n",
      "4351      364.0           0.0  2144.0   1804.0          C          S  \n",
      "1164        0.0           0.0     0.0      0.0          E          P  \n",
      "6612        0.0           0.0     0.0      0.0          G          S  \n",
      "6068      480.0          31.0     3.0      0.0          G          S  \n",
      "7823        0.0        1792.0    16.0    248.0          F          S  \n",
      "1854        0.0           0.0     0.0      0.0          F          P  \n",
      "2171      454.0           0.0   454.0      0.0          G          S  \n",
      "7599      226.0           0.0  5481.0      NaN          C          S  \n"
     ]
    }
   ],
   "source": [
    "# Configure the column Cabin. \\d - any digit\n",
    "def cabin_conf(input):\n",
    "    input = str(input)\n",
    "    cabin_conf_pattern = r\"/\\d+/\"\n",
    "    output = re.sub(cabin_conf_pattern, \"/\", input)\n",
    "    return output\n",
    "\n",
    "# Now I want to divide it into two different columns \n",
    "X_train[\"Cabin\"] = X_train[\"Cabin\"].apply(cabin_conf)\n",
    "X_valid[\"Cabin\"] = X_valid[\"Cabin\"].apply(cabin_conf)\n",
    "\n",
    "X_train[['Cabin_Deck', 'Cabin_Side']] = X_train['Cabin'].str.split('/', expand=True)\n",
    "X_valid[['Cabin_Deck', 'Cabin_Side']] = X_valid['Cabin'].str.split('/', expand=True)\n",
    "\n",
    "X_train.drop([\"Cabin\"], axis=1)\n",
    "X_valid.drop([\"Cabin\"], axis=1)\n",
    "\n",
    "\n",
    "print(X_train.sample(10))\n"
   ]
  },
  {
   "cell_type": "code",
   "execution_count": 596,
   "metadata": {},
   "outputs": [
    {
     "name": "stdout",
     "output_type": "stream",
     "text": [
      "HomePlanet         3\n",
      "CryoSleep          2\n",
      "Cabin             15\n",
      "Destination        3\n",
      "Age               80\n",
      "VIP                2\n",
      "RoomService     1096\n",
      "FoodCourt       1283\n",
      "ShoppingMall     968\n",
      "Spa             1162\n",
      "VRDeck          1127\n",
      "Cabin_Deck         8\n",
      "Cabin_Side         2\n",
      "dtype: int64\n",
      "The following columns will be translated into categorical: ['HomePlanet', 'CryoSleep', 'Cabin', 'Destination', 'VIP', 'Cabin_Deck', 'Cabin_Side']\n"
     ]
    }
   ],
   "source": [
    "\n",
    "nunique_cnt = X_train.nunique()\n",
    "print(nunique_cnt)\n",
    "low_card_cols = nunique_cnt[nunique_cnt < 20].index.tolist()\n",
    "print(\"The following columns will be translated into categorical: \" + str(low_card_cols))\n",
    "\n",
    "ordinal_encoder = OrdinalEncoder(handle_unknown='use_encoded_value', unknown_value=-1)\n",
    "X_train[low_card_cols] = ordinal_encoder.fit_transform(X_train[low_card_cols])\n",
    "X_valid[low_card_cols] = ordinal_encoder.transform(X_valid[low_card_cols])"
   ]
  },
  {
   "cell_type": "code",
   "execution_count": 597,
   "metadata": {},
   "outputs": [
    {
     "name": "stdout",
     "output_type": "stream",
     "text": [
      "HomePlanet 0.0\n",
      "CryoSleep 0.0\n",
      "Cabin 0.0\n",
      "Destination 0.0\n",
      "Age 0.0\n",
      "VIP 0.0\n",
      "RoomService 0.0\n",
      "FoodCourt 0.0\n",
      "ShoppingMall 0.0\n",
      "Spa 0.0\n",
      "VRDeck 0.0\n",
      "Cabin_Deck 0.0\n",
      "Cabin_Side 0.0\n",
      "      HomePlanet  CryoSleep  Cabin  Destination   Age  VIP  RoomService  \\\n",
      "1501         2.0        1.0   11.0          1.0  18.0  0.0          0.0   \n",
      "3736         2.0        0.0   10.0          2.0  36.0  0.0          0.0   \n",
      "1954         2.0        0.0   11.0          2.0  58.0  0.0         55.0   \n",
      "4984         2.0        1.0   11.0          2.0  24.0  0.0          0.0   \n",
      "2390         0.0        0.0   10.0          2.0  21.0  0.0        129.0   \n",
      "1845         1.0        1.0    9.0          2.0  20.0  0.0          0.0   \n",
      "6519         2.0        0.0   10.0          2.0  37.0  0.0         27.0   \n",
      "3546         1.0        1.0    7.0          0.0  36.0  0.0          0.0   \n",
      "332          2.0        1.0    7.0          0.0  17.0  0.0          0.0   \n",
      "5095         0.0        1.0   13.0          1.0  14.0  0.0          0.0   \n",
      "\n",
      "      FoodCourt  ShoppingMall    Spa  VRDeck  Cabin_Deck  Cabin_Side  \n",
      "1501        0.0           0.0    0.0     0.0         5.0         1.0  \n",
      "3736        0.0           0.0    0.0     0.0         5.0         0.0  \n",
      "1954        0.0         756.0  246.0   100.0         5.0         1.0  \n",
      "4984        0.0           0.0    0.0     0.0         5.0         1.0  \n",
      "2390      106.0         280.0  183.0    18.0         5.0         0.0  \n",
      "1845        0.0           0.0    0.0     0.0         4.0         1.0  \n",
      "6519        0.0        1131.0    0.0  1318.0         5.0         0.0  \n",
      "3546        0.0           0.0    0.0     0.0         3.0         1.0  \n",
      "332         0.0           0.0    0.0     0.0         3.0         1.0  \n",
      "5095        0.0           0.0    0.0     0.0         6.0         1.0  \n"
     ]
    }
   ],
   "source": [
    "# Use imputer for ['HomePlanet', 'CryoSleep', 'Cabin', 'Destination', 'VIP', 'Cabin_Deck', 'Cabin_Side']] columns\n",
    "\n",
    "cols_impute = ['HomePlanet', 'CryoSleep', 'Cabin', 'Destination', 'VIP', 'Cabin_Deck', 'Cabin_Side']\n",
    "\n",
    "my_imputer = SimpleImputer(strategy='most_frequent')\n",
    "X_train_imputed = pd.DataFrame(my_imputer.fit_transform(X_train))\n",
    "X_valid_imputed = pd.DataFrame(my_imputer.transform(X_valid))\n",
    "\n",
    "X_train_imputed.columns = X_train.columns\n",
    "X_valid_imputed.columns = X_valid.columns\n",
    "\n",
    "X_train = X_train_imputed\n",
    "X_valid = X_valid_imputed\n",
    "\n",
    "count_nans(X_train)\n",
    "\n",
    "print(X_train.sample(10))"
   ]
  },
  {
   "cell_type": "code",
   "execution_count": 598,
   "metadata": {},
   "outputs": [
    {
     "name": "stdout",
     "output_type": "stream",
     "text": [
      "0.7910535609181871\n"
     ]
    }
   ],
   "source": [
    "print(mae(X_train, X_valid, y_train, y_valid))"
   ]
  }
 ],
 "metadata": {
  "kernelspec": {
   "display_name": "Python 3.11.3 64-bit",
   "language": "python",
   "name": "python3"
  },
  "language_info": {
   "codemirror_mode": {
    "name": "ipython",
    "version": 3
   },
   "file_extension": ".py",
   "mimetype": "text/x-python",
   "name": "python",
   "nbconvert_exporter": "python",
   "pygments_lexer": "ipython3",
   "version": "3.11.3"
  },
  "orig_nbformat": 4,
  "vscode": {
   "interpreter": {
    "hash": "b0fa6594d8f4cbf19f97940f81e996739fb7646882a419484c72d19e05852a7e"
   }
  }
 },
 "nbformat": 4,
 "nbformat_minor": 2
}
