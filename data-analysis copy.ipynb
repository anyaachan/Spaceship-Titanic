{
 "cells": [
  {
   "cell_type": "code",
   "execution_count": 1,
   "metadata": {},
   "outputs": [],
   "source": [
    "import pandas as pd\n",
    "import numpy as np\n",
    "import matplotlib.pyplot as plt\n",
    "import re\n",
    "\n",
    "from sklearn.model_selection import train_test_split\n",
    "from sklearn.ensemble import RandomForestClassifier\n",
    "from sklearn.metrics import mean_absolute_error\n",
    "from sklearn.metrics import accuracy_score\n",
    "from sklearn.preprocessing import OrdinalEncoder\n",
    "from sklearn.impute import SimpleImputer\n",
    "\n",
    "from xgboost import XGBRegressor\n"
   ]
  },
  {
   "cell_type": "code",
   "execution_count": 2,
   "metadata": {},
   "outputs": [],
   "source": [
    "# Read the data\n",
    "df_train = pd.read_csv('data/train.csv')\n",
    "df_test = pd.read_csv('data/test.csv')\n"
   ]
  },
  {
   "cell_type": "code",
   "execution_count": 3,
   "metadata": {},
   "outputs": [
    {
     "name": "stdout",
     "output_type": "stream",
     "text": [
      "['HomePlanet', 'CryoSleep', 'Cabin', 'Destination', 'Age', 'VIP', 'RoomService', 'FoodCourt', 'ShoppingMall', 'Spa', 'VRDeck', 'Name']\n",
      "PassengerId 0.0\n",
      "HomePlanet 2.312205222592891\n",
      "CryoSleep 2.4962613597147127\n",
      "Cabin 2.289198205452663\n",
      "Destination 2.093638559760727\n",
      "Age 2.0591280340503855\n",
      "VIP 2.3352122397331185\n",
      "RoomService 2.082135051190613\n",
      "FoodCourt 2.105142068330841\n",
      "ShoppingMall 2.392729782583688\n",
      "Spa 2.105142068330841\n",
      "VRDeck 2.1626596111814105\n",
      "Name 2.300701714022777\n",
      "Transported 0.0\n"
     ]
    }
   ],
   "source": [
    "#Determine if there is any columns with NaN values\n",
    "\n",
    "missing_cols = df_train.columns[df_train.isna().any()].tolist()\n",
    "print(missing_cols)\n",
    "\n",
    "# Almost all the columns have NaN values, so we need to determine the percentage of NaN values in each column\n",
    "\n",
    "def count_nans(df):\n",
    "    for col in df.columns:\n",
    "        print(col, df[col].isna().sum()/len(df[col])*100)\n",
    "\n",
    "count_nans(df_train)\n",
    "\n",
    "df_train = df_train[df_train['Cabin'].notna()]\n",
    "df_train[\"Transported\"] = df_train[\"Transported\"].astype(int)\n",
    "\n",
    "df_train = df_train.drop([\"Name\"], axis=1)\n",
    "\n",
    "X_test = df_test.copy()\n",
    "X_test = X_test.drop([\"PassengerId\"], axis=1)\n",
    "X_test = X_test.drop([\"Name\"], axis=1)"
   ]
  },
  {
   "cell_type": "code",
   "execution_count": 4,
   "metadata": {},
   "outputs": [],
   "source": [
    "# Select the target\n",
    "y = df_train.Transported\n",
    "# Select the features\n",
    "X = df_train.drop(['Transported', \"PassengerId\"], axis=1)\n",
    "\n",
    "#Divide the data into training and validation sets\n",
    "X_train, X_valid, y_train, y_valid = train_test_split(X, y, train_size=0.8, test_size=0.2, random_state=0)"
   ]
  },
  {
   "cell_type": "code",
   "execution_count": 5,
   "metadata": {},
   "outputs": [],
   "source": [
    "# Define the MAE function to compare the performance\n",
    "\n",
    "def mae(X_train, X_valid, y_train, y_valid, model):\n",
    "    model.fit(X_train, y_train)\n",
    "    predictions = model.predict(X_valid)\n",
    "    accuracy = accuracy_score(y_valid, predictions)\n",
    "    \n",
    "    return accuracy"
   ]
  },
  {
   "cell_type": "code",
   "execution_count": 6,
   "metadata": {},
   "outputs": [
    {
     "name": "stdout",
     "output_type": "stream",
     "text": [
      "HomePlanet 2.2222222222222223\n",
      "CryoSleep 2.6342899190581313\n",
      "Cabin 0.0\n",
      "Destination 2.0897718910963947\n",
      "Age 2.0456217807211186\n",
      "VIP 2.251655629139073\n",
      "RoomService 2.0309050772626933\n",
      "FoodCourt 2.0161883738042676\n",
      "ShoppingMall 2.369389256806475\n",
      "Spa 2.0161883738042676\n",
      "VRDeck 2.1486387049300957\n"
     ]
    }
   ],
   "source": [
    "# print(X_train.sample(10))\n",
    "# print(X_valid.sample(3))\n",
    "\n",
    "def count_nans(df):\n",
    "    for col in df.columns:\n",
    "        print(col, df[col].isna().sum()/len(df[col])*100)\n",
    "\n",
    "count_nans(X_train)"
   ]
  },
  {
   "cell_type": "code",
   "execution_count": 7,
   "metadata": {},
   "outputs": [
    {
     "name": "stdout",
     "output_type": "stream",
     "text": [
      "     HomePlanet CryoSleep Cabin    Destination   Age    VIP  RoomService  \\\n",
      "1686       Mars     False   F/P    TRAPPIST-1e  73.0  False         27.0   \n",
      "3134      Earth     False   F/P    TRAPPIST-1e  18.0  False          1.0   \n",
      "519      Europa     False   C/P    TRAPPIST-1e  33.0  False          0.0   \n",
      "7865      Earth      True   G/P  PSO J318.5-22  14.0  False          0.0   \n",
      "1149      Earth     False   F/P    TRAPPIST-1e  51.0  False          0.0   \n",
      "1596      Earth      True   G/S  PSO J318.5-22  31.0  False          0.0   \n",
      "334       Earth     False   G/S    TRAPPIST-1e  22.0  False        116.0   \n",
      "4240       Mars     False   D/S    TRAPPIST-1e  13.0  False         27.0   \n",
      "501         NaN      True   C/P    55 Cancri e  30.0  False          0.0   \n",
      "7702      Earth       NaN   G/P    TRAPPIST-1e  18.0  False          3.0   \n",
      "\n",
      "      FoodCourt  ShoppingMall     Spa  VRDeck Cabin_Deck Cabin_Side  \n",
      "1686        2.0          71.0  1208.0     0.0          F          P  \n",
      "3134       56.0           0.0   602.0   205.0          F          P  \n",
      "519       165.0           1.0  2525.0     0.0          C          P  \n",
      "7865        0.0           0.0     0.0     0.0          G          P  \n",
      "1149        NaN         800.0     0.0     4.0          F          P  \n",
      "1596        NaN           0.0     0.0     0.0          G          S  \n",
      "334         0.0         786.0     6.0     0.0          G          S  \n",
      "4240        0.0        3246.0     0.0     0.0          D          S  \n",
      "501         0.0           0.0     0.0     0.0          C          P  \n",
      "7702        0.0           3.0  1773.0     0.0          G          P  \n"
     ]
    }
   ],
   "source": [
    "# Configure the column Cabin. \\d - any digit\n",
    "def cabin_conf(input):\n",
    "    input = str(input)\n",
    "    cabin_conf_pattern = r\"/\\d+/\"\n",
    "    output = re.sub(cabin_conf_pattern, \"/\", input)\n",
    "    return output\n",
    "\n",
    "# Now I want to divide it into two different columns \n",
    "X_train[\"Cabin\"] = X_train[\"Cabin\"].apply(cabin_conf)\n",
    "X_valid[\"Cabin\"] = X_valid[\"Cabin\"].apply(cabin_conf)\n",
    "X_test[\"Cabin\"] = X_test[\"Cabin\"].apply(cabin_conf)\n",
    "\n",
    "\n",
    "X_train[['Cabin_Deck', 'Cabin_Side']] = X_train['Cabin'].str.split('/', expand=True)\n",
    "X_valid[['Cabin_Deck', 'Cabin_Side']] = X_valid['Cabin'].str.split('/', expand=True)\n",
    "X_test[['Cabin_Deck', 'Cabin_Side']] = X_test['Cabin'].str.split('/', expand=True)\n",
    "\n",
    "X_train.drop([\"Cabin\"], axis=1)\n",
    "X_valid.drop([\"Cabin\"], axis=1)\n",
    "X_test.drop([\"Cabin\"], axis=1)\n",
    "\n",
    "\n",
    "print(X_train.sample(10))\n"
   ]
  },
  {
   "cell_type": "code",
   "execution_count": 8,
   "metadata": {},
   "outputs": [
    {
     "name": "stdout",
     "output_type": "stream",
     "text": [
      "HomePlanet         3\n",
      "CryoSleep          2\n",
      "Cabin             15\n",
      "Destination        3\n",
      "Age               80\n",
      "VIP                2\n",
      "RoomService     1096\n",
      "FoodCourt       1283\n",
      "ShoppingMall     968\n",
      "Spa             1162\n",
      "VRDeck          1127\n",
      "Cabin_Deck         8\n",
      "Cabin_Side         2\n",
      "dtype: int64\n",
      "The following columns will be translated into categorical: ['HomePlanet', 'CryoSleep', 'Cabin', 'Destination', 'VIP', 'Cabin_Deck', 'Cabin_Side']\n"
     ]
    }
   ],
   "source": [
    "\n",
    "nunique_cnt = X_train.nunique()\n",
    "print(nunique_cnt)\n",
    "low_card_cols = nunique_cnt[nunique_cnt < 20].index.tolist()\n",
    "print(\"The following columns will be translated into categorical: \" + str(low_card_cols))\n",
    "\n",
    "ordinal_encoder = OrdinalEncoder(handle_unknown='use_encoded_value', unknown_value=-1)\n",
    "X_train[low_card_cols] = ordinal_encoder.fit_transform(X_train[low_card_cols])\n",
    "X_valid[low_card_cols] = ordinal_encoder.transform(X_valid[low_card_cols])\n",
    "\n",
    "X_test[low_card_cols] = ordinal_encoder.fit_transform(X_test[low_card_cols])"
   ]
  },
  {
   "cell_type": "code",
   "execution_count": 9,
   "metadata": {},
   "outputs": [
    {
     "name": "stdout",
     "output_type": "stream",
     "text": [
      "HomePlanet 0.0\n",
      "CryoSleep 0.0\n",
      "Cabin 0.0\n",
      "Destination 0.0\n",
      "Age 0.0\n",
      "VIP 0.0\n",
      "RoomService 0.0\n",
      "FoodCourt 0.0\n",
      "ShoppingMall 0.0\n",
      "Spa 0.0\n",
      "VRDeck 0.0\n",
      "Cabin_Deck 0.0\n",
      "Cabin_Side 0.0\n",
      "      HomePlanet  CryoSleep  Cabin  Destination   Age  VIP  RoomService  \\\n",
      "758          0.0        1.0   13.0          2.0  14.0  0.0          0.0   \n",
      "6248         0.0        1.0    9.0          0.0  49.0  0.0          0.0   \n",
      "2167         1.0        1.0    2.0          2.0  18.0  0.0          0.0   \n",
      "5469         0.0        0.0   12.0          2.0  37.0  0.0         18.0   \n",
      "4583         0.0        0.0   13.0          2.0  12.0  0.0          0.0   \n",
      "3223         0.0        0.0   13.0          2.0  20.0  0.0          0.0   \n",
      "4590         0.0        1.0   13.0          0.0  26.0  0.0          0.0   \n",
      "738          0.0        0.0   13.0          0.0  21.0  0.0        770.0   \n",
      "2203         0.0        0.0   12.0          2.0  73.0  0.0          0.0   \n",
      "4284         0.0        0.0   11.0          2.0  16.0  0.0          0.0   \n",
      "\n",
      "      FoodCourt  ShoppingMall    Spa  VRDeck  Cabin_Deck  Cabin_Side  \n",
      "758         0.0           0.0    0.0     0.0         6.0         1.0  \n",
      "6248        0.0           0.0    0.0     0.0         4.0         1.0  \n",
      "2167        0.0           0.0    0.0     0.0         1.0         0.0  \n",
      "5469      238.0           0.0  528.0     0.0         6.0         0.0  \n",
      "4583        0.0           0.0    0.0     0.0         6.0         1.0  \n",
      "3223       39.0         830.0   17.0     0.0         6.0         1.0  \n",
      "4590        0.0           0.0    0.0     0.0         6.0         1.0  \n",
      "738         0.0           0.0   40.0     0.0         6.0         1.0  \n",
      "2203        0.0           0.0  153.0   556.0         6.0         0.0  \n",
      "4284      458.0         725.0    0.0     0.0         5.0         1.0  \n"
     ]
    }
   ],
   "source": [
    "# Use imputer for ['HomePlanet', 'CryoSleep', 'Cabin', 'Destination', 'VIP', 'Cabin_Deck', 'Cabin_Side']] columns\n",
    "\n",
    "cols_impute = ['HomePlanet', 'CryoSleep', 'Cabin', 'Destination', 'VIP', 'Cabin_Deck', 'Cabin_Side']\n",
    "\n",
    "my_imputer = SimpleImputer(strategy='most_frequent')\n",
    "X_train_imputed = pd.DataFrame(my_imputer.fit_transform(X_train))\n",
    "X_valid_imputed = pd.DataFrame(my_imputer.transform(X_valid))\n",
    "\n",
    "X_test_imputed = pd.DataFrame(my_imputer.transform(X_test))\n",
    "\n",
    "X_train_imputed.columns = X_train.columns\n",
    "X_valid_imputed.columns = X_valid.columns\n",
    "X_test_imputed.columns = X_test.columns\n",
    "\n",
    "\n",
    "X_train = X_train_imputed\n",
    "X_valid = X_valid_imputed\n",
    "X_test = X_test_imputed\n",
    "\n",
    "count_nans(X_train)\n",
    "\n",
    "print(X_train.sample(10))"
   ]
  },
  {
   "cell_type": "code",
   "execution_count": 10,
   "metadata": {},
   "outputs": [
    {
     "ename": "NameError",
     "evalue": "name 'model_rfc' is not defined",
     "output_type": "error",
     "traceback": [
      "\u001b[0;31m---------------------------------------------------------------------------\u001b[0m",
      "\u001b[0;31mNameError\u001b[0m                                 Traceback (most recent call last)",
      "Cell \u001b[0;32mIn[10], line 2\u001b[0m\n\u001b[1;32m      1\u001b[0m model \u001b[38;5;241m=\u001b[39m RandomForestClassifier(n_estimators\u001b[38;5;241m=\u001b[39m\u001b[38;5;241m500\u001b[39m)\n\u001b[0;32m----> 2\u001b[0m \u001b[38;5;28mprint\u001b[39m(mae(X_train, X_valid, y_train, y_valid, \u001b[43mmodel_rfc\u001b[49m))\n\u001b[1;32m      4\u001b[0m model_rfc\u001b[38;5;241m.\u001b[39mfit(X_train, y_train)\n\u001b[1;32m      5\u001b[0m predictions \u001b[38;5;241m=\u001b[39m model_rfc\u001b[38;5;241m.\u001b[39mpredict(X_test)\n",
      "\u001b[0;31mNameError\u001b[0m: name 'model_rfc' is not defined"
     ]
    }
   ],
   "source": [
    "model = XGBRegressor(n_estimators=800,\n",
    "                         learning_rate=0.05)\n",
    "\n",
    "print(mae(X_train, X_valid, y_train, y_valid, model))\n",
    "\n",
    "model.fit(X_train, y_train)\n",
    "predictions = model.predict(X_test)\n",
    "\n",
    "predictions = predictions.astype(bool)"
   ]
  },
  {
   "cell_type": "code",
   "execution_count": null,
   "metadata": {},
   "outputs": [
    {
     "name": "stdout",
     "output_type": "stream",
     "text": [
      "4277\n"
     ]
    }
   ],
   "source": [
    "# Create the model\n",
    "# model = XGBRegressor(n_estimators=800,\n",
    "#                          learning_rate=0.05) \n",
    "output = pd.DataFrame({'PassengerId': df_test.PassengerId, 'Transported': predictions})\n",
    "output.to_csv('submission.csv', index=False)\n",
    "\n",
    "print(len(output.index))"
   ]
  }
 ],
 "metadata": {
  "kernelspec": {
   "display_name": "Python 3.11.3 64-bit",
   "language": "python",
   "name": "python3"
  },
  "language_info": {
   "codemirror_mode": {
    "name": "ipython",
    "version": 3
   },
   "file_extension": ".py",
   "mimetype": "text/x-python",
   "name": "python",
   "nbconvert_exporter": "python",
   "pygments_lexer": "ipython3",
   "version": "3.11.3"
  },
  "orig_nbformat": 4,
  "vscode": {
   "interpreter": {
    "hash": "b0fa6594d8f4cbf19f97940f81e996739fb7646882a419484c72d19e05852a7e"
   }
  }
 },
 "nbformat": 4,
 "nbformat_minor": 2
}
