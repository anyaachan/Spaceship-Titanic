{
 "cells": [
  {
   "cell_type": "code",
   "execution_count": 405,
   "metadata": {},
   "outputs": [],
   "source": [
    "import pandas as pd\n",
    "import numpy as np\n",
    "import matplotlib.pyplot as plt\n",
    "import re\n",
    "import seaborn as sns\n",
    "\n",
    "from sklearn.model_selection import train_test_split\n",
    "from sklearn.ensemble import RandomForestClassifier\n",
    "from sklearn.metrics import mean_absolute_error\n",
    "from sklearn.metrics import accuracy_score\n",
    "from sklearn.preprocessing import OrdinalEncoder\n",
    "from sklearn.impute import SimpleImputer\n"
   ]
  },
  {
   "cell_type": "code",
   "execution_count": 406,
   "metadata": {},
   "outputs": [],
   "source": [
    "#Read the data\n",
    "df_train = pd.read_csv('data/train.csv')\n",
    "df_test = pd.read_csv('data/test.csv')"
   ]
  },
  {
   "cell_type": "code",
   "execution_count": 407,
   "metadata": {},
   "outputs": [
    {
     "data": {
      "text/html": [
       "<div>\n",
       "<style scoped>\n",
       "    .dataframe tbody tr th:only-of-type {\n",
       "        vertical-align: middle;\n",
       "    }\n",
       "\n",
       "    .dataframe tbody tr th {\n",
       "        vertical-align: top;\n",
       "    }\n",
       "\n",
       "    .dataframe thead th {\n",
       "        text-align: right;\n",
       "    }\n",
       "</style>\n",
       "<table border=\"1\" class=\"dataframe\">\n",
       "  <thead>\n",
       "    <tr style=\"text-align: right;\">\n",
       "      <th></th>\n",
       "      <th>PassengerId</th>\n",
       "      <th>HomePlanet</th>\n",
       "      <th>CryoSleep</th>\n",
       "      <th>Cabin</th>\n",
       "      <th>Destination</th>\n",
       "      <th>Age</th>\n",
       "      <th>VIP</th>\n",
       "      <th>RoomService</th>\n",
       "      <th>FoodCourt</th>\n",
       "      <th>ShoppingMall</th>\n",
       "      <th>Spa</th>\n",
       "      <th>VRDeck</th>\n",
       "      <th>Name</th>\n",
       "      <th>Transported</th>\n",
       "    </tr>\n",
       "  </thead>\n",
       "  <tbody>\n",
       "    <tr>\n",
       "      <th>0</th>\n",
       "      <td>0001_01</td>\n",
       "      <td>Europa</td>\n",
       "      <td>False</td>\n",
       "      <td>B/0/P</td>\n",
       "      <td>TRAPPIST-1e</td>\n",
       "      <td>39.0</td>\n",
       "      <td>False</td>\n",
       "      <td>0.0</td>\n",
       "      <td>0.0</td>\n",
       "      <td>0.0</td>\n",
       "      <td>0.0</td>\n",
       "      <td>0.0</td>\n",
       "      <td>Maham Ofracculy</td>\n",
       "      <td>False</td>\n",
       "    </tr>\n",
       "    <tr>\n",
       "      <th>1</th>\n",
       "      <td>0002_01</td>\n",
       "      <td>Earth</td>\n",
       "      <td>False</td>\n",
       "      <td>F/0/S</td>\n",
       "      <td>TRAPPIST-1e</td>\n",
       "      <td>24.0</td>\n",
       "      <td>False</td>\n",
       "      <td>109.0</td>\n",
       "      <td>9.0</td>\n",
       "      <td>25.0</td>\n",
       "      <td>549.0</td>\n",
       "      <td>44.0</td>\n",
       "      <td>Juanna Vines</td>\n",
       "      <td>True</td>\n",
       "    </tr>\n",
       "    <tr>\n",
       "      <th>2</th>\n",
       "      <td>0003_01</td>\n",
       "      <td>Europa</td>\n",
       "      <td>False</td>\n",
       "      <td>A/0/S</td>\n",
       "      <td>TRAPPIST-1e</td>\n",
       "      <td>58.0</td>\n",
       "      <td>True</td>\n",
       "      <td>43.0</td>\n",
       "      <td>3576.0</td>\n",
       "      <td>0.0</td>\n",
       "      <td>6715.0</td>\n",
       "      <td>49.0</td>\n",
       "      <td>Altark Susent</td>\n",
       "      <td>False</td>\n",
       "    </tr>\n",
       "    <tr>\n",
       "      <th>3</th>\n",
       "      <td>0003_02</td>\n",
       "      <td>Europa</td>\n",
       "      <td>False</td>\n",
       "      <td>A/0/S</td>\n",
       "      <td>TRAPPIST-1e</td>\n",
       "      <td>33.0</td>\n",
       "      <td>False</td>\n",
       "      <td>0.0</td>\n",
       "      <td>1283.0</td>\n",
       "      <td>371.0</td>\n",
       "      <td>3329.0</td>\n",
       "      <td>193.0</td>\n",
       "      <td>Solam Susent</td>\n",
       "      <td>False</td>\n",
       "    </tr>\n",
       "    <tr>\n",
       "      <th>4</th>\n",
       "      <td>0004_01</td>\n",
       "      <td>Earth</td>\n",
       "      <td>False</td>\n",
       "      <td>F/1/S</td>\n",
       "      <td>TRAPPIST-1e</td>\n",
       "      <td>16.0</td>\n",
       "      <td>False</td>\n",
       "      <td>303.0</td>\n",
       "      <td>70.0</td>\n",
       "      <td>151.0</td>\n",
       "      <td>565.0</td>\n",
       "      <td>2.0</td>\n",
       "      <td>Willy Santantines</td>\n",
       "      <td>True</td>\n",
       "    </tr>\n",
       "  </tbody>\n",
       "</table>\n",
       "</div>"
      ],
      "text/plain": [
       "  PassengerId HomePlanet CryoSleep  Cabin  Destination   Age    VIP  \\\n",
       "0     0001_01     Europa     False  B/0/P  TRAPPIST-1e  39.0  False   \n",
       "1     0002_01      Earth     False  F/0/S  TRAPPIST-1e  24.0  False   \n",
       "2     0003_01     Europa     False  A/0/S  TRAPPIST-1e  58.0   True   \n",
       "3     0003_02     Europa     False  A/0/S  TRAPPIST-1e  33.0  False   \n",
       "4     0004_01      Earth     False  F/1/S  TRAPPIST-1e  16.0  False   \n",
       "\n",
       "   RoomService  FoodCourt  ShoppingMall     Spa  VRDeck               Name  \\\n",
       "0          0.0        0.0           0.0     0.0     0.0    Maham Ofracculy   \n",
       "1        109.0        9.0          25.0   549.0    44.0       Juanna Vines   \n",
       "2         43.0     3576.0           0.0  6715.0    49.0      Altark Susent   \n",
       "3          0.0     1283.0         371.0  3329.0   193.0       Solam Susent   \n",
       "4        303.0       70.0         151.0   565.0     2.0  Willy Santantines   \n",
       "\n",
       "   Transported  \n",
       "0        False  \n",
       "1         True  \n",
       "2        False  \n",
       "3        False  \n",
       "4         True  "
      ]
     },
     "execution_count": 407,
     "metadata": {},
     "output_type": "execute_result"
    }
   ],
   "source": [
    "df_train.head()"
   ]
  },
  {
   "cell_type": "markdown",
   "metadata": {},
   "source": [
    "## Exploratory Data Analysis"
   ]
  },
  {
   "cell_type": "code",
   "execution_count": 408,
   "metadata": {},
   "outputs": [
    {
     "name": "stdout",
     "output_type": "stream",
     "text": [
      "The columns with the missing data are the following: ['HomePlanet', 'CryoSleep', 'Cabin', 'Destination', 'Age', 'VIP', 'RoomService', 'FoodCourt', 'ShoppingMall', 'Spa', 'VRDeck', 'Name']\n"
     ]
    }
   ],
   "source": [
    "#Determine if there are any columns with NaN values\n",
    "missing_cols = df_train.columns[df_train.isna().any()].tolist()\n",
    "print(\"The columns with the missing data are the following: \" + str(missing_cols))"
   ]
  },
  {
   "cell_type": "code",
   "execution_count": 409,
   "metadata": {},
   "outputs": [
    {
     "name": "stdout",
     "output_type": "stream",
     "text": [
      "The percentage of NaN values in each column is the following: \n",
      "PassengerId 0.0\n",
      "HomePlanet 2.312205222592891\n",
      "CryoSleep 2.4962613597147127\n",
      "Cabin 2.289198205452663\n",
      "Destination 2.093638559760727\n",
      "Age 2.0591280340503855\n",
      "VIP 2.3352122397331185\n",
      "RoomService 2.082135051190613\n",
      "FoodCourt 2.105142068330841\n",
      "ShoppingMall 2.392729782583688\n",
      "Spa 2.105142068330841\n",
      "VRDeck 2.1626596111814105\n",
      "Name 2.300701714022777\n",
      "Transported 0.0\n"
     ]
    }
   ],
   "source": [
    "# Almost all the columns have NaN values, so we need to determine the percentage of NaN values in each column\n",
    "def count_nans(df):\n",
    "    print(\"The percentage of NaN values in each column is the following: \")\n",
    "    for col in df.columns:\n",
    "        print(col, df[col].isna().sum()/len(df[col])*100)\n",
    "\n",
    "count_nans(df_train)"
   ]
  },
  {
   "cell_type": "markdown",
   "metadata": {},
   "source": [
    "As we can see, almost all the columns have around 2% of missing values, which can be handled with imputation. "
   ]
  },
  {
   "cell_type": "code",
   "execution_count": 410,
   "metadata": {},
   "outputs": [],
   "source": [
    "# Let's convert the type of the column \"Transported\" to integer from the bool type\n",
    "df_train[\"Transported\"] = df_train[\"Transported\"].astype(int)"
   ]
  },
  {
   "cell_type": "markdown",
   "metadata": {},
   "source": [
    "As can be seen from the data, the Cabin column contatins the cabin number in the deck/num/side format. Therefore, we can separate the data about deck and side into separate categorical columns. "
   ]
  },
  {
   "cell_type": "code",
   "execution_count": 411,
   "metadata": {},
   "outputs": [
    {
     "data": {
      "text/html": [
       "<div>\n",
       "<style scoped>\n",
       "    .dataframe tbody tr th:only-of-type {\n",
       "        vertical-align: middle;\n",
       "    }\n",
       "\n",
       "    .dataframe tbody tr th {\n",
       "        vertical-align: top;\n",
       "    }\n",
       "\n",
       "    .dataframe thead th {\n",
       "        text-align: right;\n",
       "    }\n",
       "</style>\n",
       "<table border=\"1\" class=\"dataframe\">\n",
       "  <thead>\n",
       "    <tr style=\"text-align: right;\">\n",
       "      <th></th>\n",
       "      <th>PassengerId</th>\n",
       "      <th>HomePlanet</th>\n",
       "      <th>CryoSleep</th>\n",
       "      <th>Destination</th>\n",
       "      <th>Age</th>\n",
       "      <th>VIP</th>\n",
       "      <th>RoomService</th>\n",
       "      <th>FoodCourt</th>\n",
       "      <th>ShoppingMall</th>\n",
       "      <th>Spa</th>\n",
       "      <th>VRDeck</th>\n",
       "      <th>Name</th>\n",
       "      <th>Transported</th>\n",
       "      <th>Cabin_Deck</th>\n",
       "      <th>Cabin_Side</th>\n",
       "    </tr>\n",
       "  </thead>\n",
       "  <tbody>\n",
       "    <tr>\n",
       "      <th>6911</th>\n",
       "      <td>7327_01</td>\n",
       "      <td>Mars</td>\n",
       "      <td>False</td>\n",
       "      <td>TRAPPIST-1e</td>\n",
       "      <td>37.0</td>\n",
       "      <td>False</td>\n",
       "      <td>1413.0</td>\n",
       "      <td>0.0</td>\n",
       "      <td>584.0</td>\n",
       "      <td>3.0</td>\n",
       "      <td>0.0</td>\n",
       "      <td>Bler Brity</td>\n",
       "      <td>1</td>\n",
       "      <td>F</td>\n",
       "      <td>P</td>\n",
       "    </tr>\n",
       "    <tr>\n",
       "      <th>6979</th>\n",
       "      <td>7418_01</td>\n",
       "      <td>Mars</td>\n",
       "      <td>False</td>\n",
       "      <td>TRAPPIST-1e</td>\n",
       "      <td>7.0</td>\n",
       "      <td>False</td>\n",
       "      <td>0.0</td>\n",
       "      <td>0.0</td>\n",
       "      <td>0.0</td>\n",
       "      <td>0.0</td>\n",
       "      <td>0.0</td>\n",
       "      <td>Apench Ses</td>\n",
       "      <td>1</td>\n",
       "      <td>F</td>\n",
       "      <td>P</td>\n",
       "    </tr>\n",
       "    <tr>\n",
       "      <th>878</th>\n",
       "      <td>0940_01</td>\n",
       "      <td>Earth</td>\n",
       "      <td>False</td>\n",
       "      <td>TRAPPIST-1e</td>\n",
       "      <td>38.0</td>\n",
       "      <td>False</td>\n",
       "      <td>55.0</td>\n",
       "      <td>741.0</td>\n",
       "      <td>0.0</td>\n",
       "      <td>0.0</td>\n",
       "      <td>13.0</td>\n",
       "      <td>Armen Byerton</td>\n",
       "      <td>1</td>\n",
       "      <td>G</td>\n",
       "      <td>P</td>\n",
       "    </tr>\n",
       "    <tr>\n",
       "      <th>6815</th>\n",
       "      <td>7199_01</td>\n",
       "      <td>Earth</td>\n",
       "      <td>False</td>\n",
       "      <td>TRAPPIST-1e</td>\n",
       "      <td>54.0</td>\n",
       "      <td>False</td>\n",
       "      <td>1.0</td>\n",
       "      <td>0.0</td>\n",
       "      <td>109.0</td>\n",
       "      <td>NaN</td>\n",
       "      <td>1.0</td>\n",
       "      <td>Lewise Bardinard</td>\n",
       "      <td>0</td>\n",
       "      <td>G</td>\n",
       "      <td>S</td>\n",
       "    </tr>\n",
       "    <tr>\n",
       "      <th>8620</th>\n",
       "      <td>9197_01</td>\n",
       "      <td>Europa</td>\n",
       "      <td>NaN</td>\n",
       "      <td>55 Cancri e</td>\n",
       "      <td>44.0</td>\n",
       "      <td>False</td>\n",
       "      <td>0.0</td>\n",
       "      <td>0.0</td>\n",
       "      <td>0.0</td>\n",
       "      <td>0.0</td>\n",
       "      <td>0.0</td>\n",
       "      <td>Bellus Platch</td>\n",
       "      <td>1</td>\n",
       "      <td>C</td>\n",
       "      <td>P</td>\n",
       "    </tr>\n",
       "    <tr>\n",
       "      <th>3657</th>\n",
       "      <td>3930_01</td>\n",
       "      <td>Earth</td>\n",
       "      <td>False</td>\n",
       "      <td>55 Cancri e</td>\n",
       "      <td>29.0</td>\n",
       "      <td>False</td>\n",
       "      <td>0.0</td>\n",
       "      <td>0.0</td>\n",
       "      <td>0.0</td>\n",
       "      <td>1819.0</td>\n",
       "      <td>1.0</td>\n",
       "      <td>Dell Mcguirez</td>\n",
       "      <td>0</td>\n",
       "      <td>F</td>\n",
       "      <td>S</td>\n",
       "    </tr>\n",
       "    <tr>\n",
       "      <th>3831</th>\n",
       "      <td>4099_01</td>\n",
       "      <td>Earth</td>\n",
       "      <td>True</td>\n",
       "      <td>TRAPPIST-1e</td>\n",
       "      <td>NaN</td>\n",
       "      <td>False</td>\n",
       "      <td>0.0</td>\n",
       "      <td>0.0</td>\n",
       "      <td>0.0</td>\n",
       "      <td>0.0</td>\n",
       "      <td>0.0</td>\n",
       "      <td>Willey Fryersonis</td>\n",
       "      <td>1</td>\n",
       "      <td>G</td>\n",
       "      <td>P</td>\n",
       "    </tr>\n",
       "    <tr>\n",
       "      <th>453</th>\n",
       "      <td>0487_01</td>\n",
       "      <td>Europa</td>\n",
       "      <td>NaN</td>\n",
       "      <td>TRAPPIST-1e</td>\n",
       "      <td>39.0</td>\n",
       "      <td>False</td>\n",
       "      <td>172.0</td>\n",
       "      <td>1794.0</td>\n",
       "      <td>12.0</td>\n",
       "      <td>4303.0</td>\n",
       "      <td>246.0</td>\n",
       "      <td>Sadirak Obeaded</td>\n",
       "      <td>0</td>\n",
       "      <td>C</td>\n",
       "      <td>S</td>\n",
       "    </tr>\n",
       "    <tr>\n",
       "      <th>3586</th>\n",
       "      <td>3857_01</td>\n",
       "      <td>Europa</td>\n",
       "      <td>True</td>\n",
       "      <td>55 Cancri e</td>\n",
       "      <td>34.0</td>\n",
       "      <td>False</td>\n",
       "      <td>0.0</td>\n",
       "      <td>0.0</td>\n",
       "      <td>NaN</td>\n",
       "      <td>0.0</td>\n",
       "      <td>0.0</td>\n",
       "      <td>Eltard Dreamspric</td>\n",
       "      <td>1</td>\n",
       "      <td>E</td>\n",
       "      <td>P</td>\n",
       "    </tr>\n",
       "    <tr>\n",
       "      <th>1054</th>\n",
       "      <td>1127_01</td>\n",
       "      <td>Europa</td>\n",
       "      <td>True</td>\n",
       "      <td>55 Cancri e</td>\n",
       "      <td>18.0</td>\n",
       "      <td>False</td>\n",
       "      <td>0.0</td>\n",
       "      <td>0.0</td>\n",
       "      <td>0.0</td>\n",
       "      <td>0.0</td>\n",
       "      <td>0.0</td>\n",
       "      <td>Weid Dishocatal</td>\n",
       "      <td>1</td>\n",
       "      <td>B</td>\n",
       "      <td>S</td>\n",
       "    </tr>\n",
       "  </tbody>\n",
       "</table>\n",
       "</div>"
      ],
      "text/plain": [
       "     PassengerId HomePlanet CryoSleep  Destination   Age    VIP  RoomService  \\\n",
       "6911     7327_01       Mars     False  TRAPPIST-1e  37.0  False       1413.0   \n",
       "6979     7418_01       Mars     False  TRAPPIST-1e   7.0  False          0.0   \n",
       "878      0940_01      Earth     False  TRAPPIST-1e  38.0  False         55.0   \n",
       "6815     7199_01      Earth     False  TRAPPIST-1e  54.0  False          1.0   \n",
       "8620     9197_01     Europa       NaN  55 Cancri e  44.0  False          0.0   \n",
       "3657     3930_01      Earth     False  55 Cancri e  29.0  False          0.0   \n",
       "3831     4099_01      Earth      True  TRAPPIST-1e   NaN  False          0.0   \n",
       "453      0487_01     Europa       NaN  TRAPPIST-1e  39.0  False        172.0   \n",
       "3586     3857_01     Europa      True  55 Cancri e  34.0  False          0.0   \n",
       "1054     1127_01     Europa      True  55 Cancri e  18.0  False          0.0   \n",
       "\n",
       "      FoodCourt  ShoppingMall     Spa  VRDeck               Name  Transported  \\\n",
       "6911        0.0         584.0     3.0     0.0         Bler Brity            1   \n",
       "6979        0.0           0.0     0.0     0.0         Apench Ses            1   \n",
       "878       741.0           0.0     0.0    13.0      Armen Byerton            1   \n",
       "6815        0.0         109.0     NaN     1.0   Lewise Bardinard            0   \n",
       "8620        0.0           0.0     0.0     0.0      Bellus Platch            1   \n",
       "3657        0.0           0.0  1819.0     1.0      Dell Mcguirez            0   \n",
       "3831        0.0           0.0     0.0     0.0  Willey Fryersonis            1   \n",
       "453      1794.0          12.0  4303.0   246.0    Sadirak Obeaded            0   \n",
       "3586        0.0           NaN     0.0     0.0  Eltard Dreamspric            1   \n",
       "1054        0.0           0.0     0.0     0.0    Weid Dishocatal            1   \n",
       "\n",
       "     Cabin_Deck Cabin_Side  \n",
       "6911          F          P  \n",
       "6979          F          P  \n",
       "878           G          P  \n",
       "6815          G          S  \n",
       "8620          C          P  \n",
       "3657          F          S  \n",
       "3831          G          P  \n",
       "453           C          S  \n",
       "3586          E          P  \n",
       "1054          B          S  "
      ]
     },
     "execution_count": 411,
     "metadata": {},
     "output_type": "execute_result"
    }
   ],
   "source": [
    "# Configure the column Cabin. \\d - any digit\n",
    "def cabin_conf(input):\n",
    "    input = str(input)\n",
    "    cabin_conf_pattern = r\"/\\d+/\"\n",
    "    output = re.sub(cabin_conf_pattern, \"/\", input)\n",
    "\n",
    "    return output\n",
    "\n",
    "df_train[\"Cabin_conf\"] = df_train[\"Cabin\"].apply(cabin_conf)\n",
    "df_test[\"Cabin_conf\"] = df_test[\"Cabin\"].apply(cabin_conf)\n",
    "\n",
    "# Divide the data into two different columns \n",
    "df_train[['Cabin_Deck', 'Cabin_Side']] = df_train['Cabin_conf'].str.split('/', expand=True)\n",
    "df_test[['Cabin_Deck', 'Cabin_Side']] = df_test['Cabin_conf'].str.split('/', expand=True)\n",
    "\n",
    "df_train.drop(['Cabin', \"Cabin_conf\"], axis=1, inplace=True)\n",
    "df_test.drop(['Cabin', \"Cabin_conf\"], axis=1, inplace=True)\n",
    "\n",
    "df_train.sample(10)"
   ]
  },
  {
   "cell_type": "code",
   "execution_count": 412,
   "metadata": {},
   "outputs": [
    {
     "data": {
      "image/png": "[encoded data removed]",
      "text/plain": [
       "<Figure size 500x300 with 1 Axes>"
      ]
     },
     "metadata": {},
     "output_type": "display_data"
    }
   ],
   "source": [
    "cabin_side_transported = df_train.groupby('Cabin_Side')['Transported'].sum()\n",
    "cabin_side_total = df_train[\"Cabin_Side\"].value_counts()\n",
    "cabin_side_percentage = cabin_side_transported / cabin_side_total * 100\n",
    "\n",
    "plt.figure(figsize=(5, 3))\n",
    "cabin_side_percentage.plot(kind='bar', color='orange')\n",
    "plt.title('Number of Transported Passengers by Cabin Side')\n",
    "plt.xlabel('Cabin Side')\n",
    "plt.ylabel('Number of Transported Passengers')\n",
    "plt.xticks(rotation=0)\n",
    "plt.show()"
   ]
  },
  {
   "cell_type": "markdown",
   "metadata": {},
   "source": [
    "As can be observed from the plot, the distribution between those who were transported is almost equal and do not depend much on the cabin side. However, the passengers from the cabin side S are more likely to be transported than not. "
   ]
  },
  {
   "cell_type": "code",
   "execution_count": 413,
   "metadata": {},
   "outputs": [
    {
     "data": {
      "image/png": "[encoded data removed]",
      "text/plain": [
       "<Figure size 500x300 with 1 Axes>"
      ]
     },
     "metadata": {},
     "output_type": "display_data"
    }
   ],
   "source": [
    "cabin_deck_transported = df_train.groupby('Cabin_Deck')['Transported'].sum()\n",
    "cabin_deck_total = df_train[\"Cabin_Deck\"].value_counts()\n",
    "cabin_deck_percentage = cabin_deck_transported / cabin_deck_total * 100\n",
    "\n",
    "plt.figure(figsize=(5, 3))\n",
    "cabin_deck_percentage.plot(kind='bar', color='orange')\n",
    "plt.title('Percentage of Transported Passengers by Cabin Deck')\n",
    "plt.xlabel('Cabin Side')\n",
    "plt.ylabel('Percentage of Transported Passengers')\n",
    "plt.xticks(rotation=0)\n",
    "plt.show()"
   ]
  },
  {
   "cell_type": "code",
   "execution_count": 414,
   "metadata": {},
   "outputs": [],
   "source": [
    "df_train.drop([\"VIP\"], axis=1, inplace=True)\n",
    "df_test.drop([\"VIP\"], axis=1, inplace=True)"
   ]
  },
  {
   "cell_type": "markdown",
   "metadata": {},
   "source": [
    "### Age distribution"
   ]
  },
  {
   "cell_type": "code",
   "execution_count": 464,
   "metadata": {},
   "outputs": [
    {
     "data": {
      "text/plain": [
       "([<matplotlib.axis.XTick at 0x2898d83d0>,\n",
       "  <matplotlib.axis.XTick at 0x28d997c50>,\n",
       "  <matplotlib.axis.XTick at 0x28ce9e9d0>,\n",
       "  <matplotlib.axis.XTick at 0x28ccac750>,\n",
       "  <matplotlib.axis.XTick at 0x28d974650>,\n",
       "  <matplotlib.axis.XTick at 0x28d98b3d0>,\n",
       "  <matplotlib.axis.XTick at 0x28cc86d90>,\n",
       "  <matplotlib.axis.XTick at 0x2891437d0>,\n",
       "  <matplotlib.axis.XTick at 0x28cc787d0>,\n",
       "  <matplotlib.axis.XTick at 0x28cc79cd0>,\n",
       "  <matplotlib.axis.XTick at 0x28d998890>,\n",
       "  <matplotlib.axis.XTick at 0x28b898b10>,\n",
       "  <matplotlib.axis.XTick at 0x28d9a2c50>,\n",
       "  <matplotlib.axis.XTick at 0x28d0f7650>,\n",
       "  <matplotlib.axis.XTick at 0x28d99fdd0>,\n",
       "  <matplotlib.axis.XTick at 0x28cfa25d0>],\n",
       " [Text(0.0, 0, '27.0'),\n",
       "  Text(5.0, 0, '23.0'),\n",
       "  Text(10.0, 0, '25.0'),\n",
       "  Text(15.0, 0, '33.0'),\n",
       "  Text(20.0, 0, '38.0'),\n",
       "  Text(25.0, 0, '13.0'),\n",
       "  Text(30.0, 0, '40.0'),\n",
       "  Text(35.0, 0, '47.0'),\n",
       "  Text(40.0, 0, '48.0'),\n",
       "  Text(45.0, 0, '53.0'),\n",
       "  Text(50.0, 0, '58.0'),\n",
       "  Text(55.0, 0, '12.0'),\n",
       "  Text(60.0, 0, '5.0'),\n",
       "  Text(65.0, 0, '65.0'),\n",
       "  Text(70.0, 0, '73.0'),\n",
       "  Text(75.0, 0, '72.0')])"
      ]
     },
     "execution_count": 464,
     "metadata": {},
     "output_type": "execute_result"
    },
    {
     "data": {
      "image/png": "[encoded data removed]",
      "text/plain": [
       "<Figure size 800x400 with 1 Axes>"
      ]
     },
     "metadata": {},
     "output_type": "display_data"
    }
   ],
   "source": [
    "# Calculate the total count of passengers for each age\n",
    "age_total = df_train[\"Age\"].value_counts()\n",
    "unique_ages = df_train['Age'].unique()\n",
    "\n",
    "plt.figure(figsize=(8, 4))\n",
    "age_total.plot(kind='bar', color='orange')\n",
    "plt.title('Number of Passengers by Age')\n",
    "plt.xlabel('Age')\n",
    "plt.ylabel('Number of Passengers')\n",
    "plt.xticks(np.arange(min(unique_ages), max(unique_ages)+1, 5), rotation=0)\n"
   ]
  },
  {
   "cell_type": "code",
   "execution_count": 465,
   "metadata": {},
   "outputs": [
    {
     "data": {
      "image/png": "[encoded data removed]",
      "text/plain": [
       "<Figure size 800x400 with 1 Axes>"
      ]
     },
     "metadata": {},
     "output_type": "display_data"
    }
   ],
   "source": [
    "\n",
    "\n",
    "# Group the data by Age and calculate the sum of the Transported column\n",
    "transported_passengers = df_train[df_train['Transported'] == 1]\n",
    "age_transported_count = transported_passengers['Age'].value_counts()\n",
    "\n",
    "age_transported = pd.Series(0, index=unique_ages)\n",
    "age_transported.update(age_transported_count)\n",
    "\n",
    "age_total.sort_index(inplace=True)\n",
    "age_transported.sort_index(inplace=True)\n",
    "\n",
    "# Calculate the percentage of transported passengers by age\n",
    "age_transported_percentage = age_transported / age_total * 100\n",
    "\n",
    "# Create a stacked bar plot\n",
    "plt.figure(figsize=(8, 4))\n",
    "age_transported_percentage.plot(kind='bar', color='orange')\n",
    "plt.axhline(y=50, color='red', linestyle='--', label='Y=50')\n",
    "plt.title('Percentage of Transported Passengers by Age')\n",
    "plt.xlabel('Age')\n",
    "plt.ylabel('Percentage of Transported Passengers')\n",
    "plt.xticks(np.arange(min(unique_ages), max(unique_ages)+1, 5), rotation=0)\n",
    "plt.show()"
   ]
  },
  {
   "cell_type": "markdown",
   "metadata": {},
   "source": [
    "It can be clearly seen from the plot that the minor aged passengers are more likely to be transported than not. On this basis, we can add a new feature which will show if the passenger is minor, youth from 19 to 27 or adult. "
   ]
  },
  {
   "cell_type": "code",
   "execution_count": 466,
   "metadata": {},
   "outputs": [],
   "source": [
    "df_train[\"Is_minor\"] = df_train[\"Age\"].apply(lambda x: 1 if x < 18 else 0) # Applies this condition to every row\n",
    "df_test[\"Is_minor\"] = df_test[\"Age\"].apply(lambda x: 1 if x < 18 else 0)\n",
    "\n",
    "df_train[\"Is_youth\"] = df_train[\"Age\"].apply(lambda x: 1 if x > 18 and x <= 27 else 0)\n",
    "df_test[\"Is_youth\"] = df_test[\"Age\"].apply(lambda x: 1 if x > 18 and x <= 27 else 0)\n",
    "\n",
    "df_train[\"Is_adult\"] = df_train[\"Age\"].apply(lambda x: 1 if x > 27 and x <= 80 else 0)\n",
    "df_test[\"Is_adult\"] = df_test[\"Age\"].apply(lambda x: 1 if x > 27 and x <= 80 else 0)\n"
   ]
  },
  {
   "cell_type": "markdown",
   "metadata": {},
   "source": [
    "Plotting how many passengers spent something. "
   ]
  },
  {
   "cell_type": "markdown",
   "metadata": {},
   "source": [
    "Now, let's determine which columns are categorical and should be encoded. "
   ]
  },
  {
   "cell_type": "code",
   "execution_count": 467,
   "metadata": {},
   "outputs": [
    {
     "name": "stdout",
     "output_type": "stream",
     "text": [
      "PassengerId     8693\n",
      "HomePlanet         3\n",
      "CryoSleep          2\n",
      "Destination        3\n",
      "Age               80\n",
      "RoomService     1273\n",
      "FoodCourt       1507\n",
      "ShoppingMall    1115\n",
      "Spa             1327\n",
      "VRDeck          1306\n",
      "Transported        2\n",
      "Cabin_Deck         9\n",
      "Cabin_Side         3\n",
      "Is_minor           2\n",
      "Is_youth           2\n",
      "Is_adult           2\n",
      "dtype: int64\n",
      "The following columns will be translated into categorical: ['HomePlanet', 'CryoSleep', 'Destination', 'Transported', 'Cabin_Deck', 'Cabin_Side', 'Is_minor', 'Is_youth', 'Is_adult']\n"
     ]
    }
   ],
   "source": [
    "\n",
    "nunique_cnt = df_train.nunique()\n",
    "print(nunique_cnt)\n",
    "low_card_cols = nunique_cnt[nunique_cnt < 10].index.tolist()\n",
    "print(\"The following columns will be translated into categorical: \" + str(low_card_cols))\n",
    "\n",
    "low_card_cols.remove('Transported')\n",
    "ordinal_encoder = OrdinalEncoder(handle_unknown='use_encoded_value', unknown_value=-1)\n",
    "\n",
    "df_train[low_card_cols] = ordinal_encoder.fit_transform(df_train[low_card_cols])\n",
    "df_test[low_card_cols] = ordinal_encoder.fit_transform(df_test[low_card_cols])"
   ]
  },
  {
   "cell_type": "code",
   "execution_count": 468,
   "metadata": {},
   "outputs": [
    {
     "name": "stdout",
     "output_type": "stream",
     "text": [
      "The percentage of NaN values in each column is the following: \n",
      "PassengerId 0.0\n",
      "HomePlanet 0.0\n",
      "CryoSleep 0.0\n",
      "Destination 0.0\n",
      "Age 0.0\n",
      "RoomService 0.0\n",
      "FoodCourt 0.0\n",
      "ShoppingMall 0.0\n",
      "Spa 0.0\n",
      "VRDeck 0.0\n",
      "Transported 0.0\n",
      "Cabin_Deck 0.0\n",
      "Cabin_Side 0.0\n",
      "Is_minor 0.0\n",
      "Is_youth 0.0\n",
      "Is_adult 0.0\n",
      "     PassengerId  HomePlanet  CryoSleep  Destination   Age  RoomService  \\\n",
      "4893     5216_01         0.0        1.0          2.0  30.0          0.0   \n",
      "7457     7982_01         1.0        1.0          2.0  32.0          0.0   \n",
      "5866     6213_01         0.0        0.0          0.0  25.0        258.0   \n",
      "3909     4178_01         0.0        0.0          2.0  19.0          0.0   \n",
      "85       0092_01         0.0        0.0          2.0  19.0          0.0   \n",
      "3279     3521_01         1.0        1.0          0.0  23.0          0.0   \n",
      "6887     7290_05         1.0        0.0          2.0  36.0         31.0   \n",
      "3993     4256_06         0.0        1.0          2.0  24.0          0.0   \n",
      "4423     4695_03         2.0        1.0          2.0  19.0          0.0   \n",
      "3057     3300_02         2.0        0.0          2.0  47.0        378.0   \n",
      "\n",
      "      FoodCourt  ShoppingMall     Spa  VRDeck  Transported  Cabin_Deck  \\\n",
      "4893        0.0           0.0     0.0     0.0            0         6.0   \n",
      "7457        0.0           0.0     0.0     0.0            0         1.0   \n",
      "5866        0.0         306.0   311.0    24.0            1         5.0   \n",
      "3909        0.0           4.0     6.0   773.0            0         6.0   \n",
      "85          0.0         670.0     1.0    34.0            0         6.0   \n",
      "3279        0.0           0.0     0.0     0.0            1         8.0   \n",
      "6887     3585.0          31.0  1400.0     0.0            0         3.0   \n",
      "3993        0.0           0.0     0.0     0.0            0         6.0   \n",
      "4423        0.0           0.0     0.0     0.0            1         5.0   \n",
      "3057        0.0         117.0  1147.0   132.0            0         5.0   \n",
      "\n",
      "      Cabin_Side  Is_minor  Is_youth  Is_adult  \n",
      "4893         0.0       0.0       0.0       1.0  \n",
      "7457         0.0       0.0       0.0       1.0  \n",
      "5866         0.0       0.0       1.0       0.0  \n",
      "3909         0.0       0.0       1.0       0.0  \n",
      "85           0.0       0.0       1.0       0.0  \n",
      "3279         2.0       0.0       1.0       0.0  \n",
      "6887         0.0       0.0       0.0       1.0  \n",
      "3993         0.0       0.0       1.0       0.0  \n",
      "4423         1.0       0.0       1.0       0.0  \n",
      "3057         0.0       0.0       0.0       1.0  \n"
     ]
    }
   ],
   "source": [
    "# Use imputer for ['HomePlanet', 'CryoSleep', 'Cabin', 'Destination', 'VIP', 'Cabin_Deck', 'Cabin_Side']] columns\n",
    "\n",
    "cols_impute_frequent = ['HomePlanet', 'CryoSleep', 'Destination', 'Cabin_Deck', 'Cabin_Side']\n",
    "\n",
    "my_imputer = SimpleImputer(strategy='most_frequent')\n",
    "\n",
    "X_train_imputed = df_train.copy()\n",
    "X_test_imputed = df_test.copy()\n",
    "\n",
    "X_train_imputed[cols_impute_frequent] = my_imputer.fit_transform(X_train_imputed[cols_impute_frequent])\n",
    "X_test_imputed[cols_impute_frequent] = my_imputer.transform(X_test_imputed[cols_impute_frequent])\n",
    "\n",
    "# X_train_imputed.columns = X_train.columns\n",
    "# X_valid_imputed.columns = X_valid.columns\n",
    "# X_test_imputed.columns = X_test.columns\n",
    "\n",
    "\n",
    "df_train = X_train_imputed\n",
    "df_test = X_test_imputed\n",
    "\n",
    "count_nans(df_train)\n",
    "\n",
    "print(df_train.sample(10))"
   ]
  },
  {
   "cell_type": "code",
   "execution_count": 469,
   "metadata": {},
   "outputs": [
    {
     "name": "stdout",
     "output_type": "stream",
     "text": [
      "The percentage of NaN values in each column is the following: \n",
      "PassengerId 0.0\n",
      "HomePlanet 0.0\n",
      "CryoSleep 0.0\n",
      "Destination 0.0\n",
      "Age 0.0\n",
      "RoomService 0.0\n",
      "FoodCourt 0.0\n",
      "ShoppingMall 0.0\n",
      "Spa 0.0\n",
      "VRDeck 0.0\n",
      "Transported 0.0\n",
      "Cabin_Deck 0.0\n",
      "Cabin_Side 0.0\n",
      "Is_minor 0.0\n",
      "Is_youth 0.0\n",
      "Is_adult 0.0\n",
      "     PassengerId  HomePlanet  CryoSleep  Destination   Age  RoomService  \\\n",
      "2589     2774_02         0.0        0.0          2.0  17.0          0.0   \n",
      "4376     4656_02         0.0        0.0          2.0   9.0          0.0   \n",
      "904      0976_01         0.0        1.0          2.0  20.0          0.0   \n",
      "4093     4369_01         0.0        0.0          2.0  19.0        857.0   \n",
      "7107     7576_01         1.0        0.0          2.0  23.0         30.0   \n",
      "175      0198_01         0.0        0.0          1.0  52.0          0.0   \n",
      "132      0141_01         2.0        0.0          2.0  31.0          0.0   \n",
      "7445     7962_01         0.0        0.0          2.0  14.0          0.0   \n",
      "2672     2863_01         0.0        0.0          2.0  27.0          0.0   \n",
      "6793     7176_02         1.0        0.0          2.0  26.0          0.0   \n",
      "\n",
      "      FoodCourt  ShoppingMall    Spa  VRDeck  Transported  Cabin_Deck  \\\n",
      "2589     1195.0          31.0    0.0     0.0            0         5.0   \n",
      "4376        0.0           0.0    0.0     0.0            0         6.0   \n",
      "904         0.0           0.0    0.0     0.0            0         6.0   \n",
      "4093        0.0           0.0    0.0     0.0            0         5.0   \n",
      "7107     2237.0           1.0   49.0    52.0            1         3.0   \n",
      "175         0.0           0.0    0.0     0.0            1         6.0   \n",
      "132         0.0          97.0    0.0     0.0            0         5.0   \n",
      "7445      360.0           0.0   25.0  1340.0            0         6.0   \n",
      "2672        2.0          49.0    0.0   801.0            0         6.0   \n",
      "6793     6050.0           0.0  662.0   920.0            0         2.0   \n",
      "\n",
      "      Cabin_Side  Is_minor  Is_youth  Is_adult  \n",
      "2589         0.0       1.0       0.0       0.0  \n",
      "4376         1.0       1.0       0.0       0.0  \n",
      "904          1.0       0.0       1.0       0.0  \n",
      "4093         1.0       0.0       1.0       0.0  \n",
      "7107         0.0       0.0       1.0       0.0  \n",
      "175          0.0       0.0       0.0       1.0  \n",
      "132          0.0       0.0       0.0       1.0  \n",
      "7445         0.0       1.0       0.0       0.0  \n",
      "2672         0.0       0.0       1.0       0.0  \n",
      "6793         0.0       0.0       1.0       0.0  \n"
     ]
    }
   ],
   "source": [
    "# Use imputer for money columns\n",
    "\n",
    "cols_impute_mean = ['RoomService', 'FoodCourt', 'ShoppingMall', 'Spa', 'VRDeck', \"Age\"]\n",
    "\n",
    "my_imputer_mean = SimpleImputer(strategy='median')\n",
    "\n",
    "X_train_imputed = df_train.copy()\n",
    "X_test_imputed = df_test.copy()\n",
    "\n",
    "X_train_imputed[cols_impute_mean] = my_imputer_mean.fit_transform(X_train_imputed[cols_impute_mean])\n",
    "X_test_imputed[cols_impute_mean] = my_imputer_mean.transform(X_test_imputed[cols_impute_mean])\n",
    "\n",
    "df_train = X_train_imputed\n",
    "df_test = X_test_imputed\n",
    "\n",
    "count_nans(df_train)\n",
    "\n",
    "print(df_train.sample(10))"
   ]
  },
  {
   "cell_type": "markdown",
   "metadata": {},
   "source": [
    "In order to evaluate the performance of the model, let's define the MAE function."
   ]
  },
  {
   "cell_type": "code",
   "execution_count": 470,
   "metadata": {},
   "outputs": [],
   "source": [
    "def mae(X_train, X_valid, y_train, y_valid, model):\n",
    "    model.fit(X_train, y_train)\n",
    "    predictions = model.predict(X_valid)\n",
    "    accuracy = accuracy_score(y_valid, predictions)\n",
    "    \n",
    "    return accuracy"
   ]
  },
  {
   "cell_type": "code",
   "execution_count": 471,
   "metadata": {},
   "outputs": [
    {
     "ename": "KeyError",
     "evalue": "\"['Name'] not found in axis\"",
     "output_type": "error",
     "traceback": [
      "\u001b[0;31m---------------------------------------------------------------------------\u001b[0m",
      "\u001b[0;31mKeyError\u001b[0m                                  Traceback (most recent call last)",
      "Cell \u001b[0;32mIn[471], line 1\u001b[0m\n\u001b[0;32m----> 1\u001b[0m \u001b[43mdf_train\u001b[49m\u001b[38;5;241;43m.\u001b[39;49m\u001b[43mdrop\u001b[49m\u001b[43m(\u001b[49m\u001b[43m[\u001b[49m\u001b[38;5;124;43m\"\u001b[39;49m\u001b[38;5;124;43mName\u001b[39;49m\u001b[38;5;124;43m\"\u001b[39;49m\u001b[43m]\u001b[49m\u001b[43m,\u001b[49m\u001b[43m \u001b[49m\u001b[43maxis\u001b[49m\u001b[38;5;241;43m=\u001b[39;49m\u001b[38;5;241;43m1\u001b[39;49m\u001b[43m,\u001b[49m\u001b[43m \u001b[49m\u001b[43minplace\u001b[49m\u001b[38;5;241;43m=\u001b[39;49m\u001b[38;5;28;43;01mTrue\u001b[39;49;00m\u001b[43m)\u001b[49m\n\u001b[1;32m      2\u001b[0m df_test\u001b[38;5;241m.\u001b[39mdrop([\u001b[38;5;124m\"\u001b[39m\u001b[38;5;124mName\u001b[39m\u001b[38;5;124m\"\u001b[39m], axis\u001b[38;5;241m=\u001b[39m\u001b[38;5;241m1\u001b[39m, inplace\u001b[38;5;241m=\u001b[39m\u001b[38;5;28;01mTrue\u001b[39;00m)\n\u001b[1;32m      4\u001b[0m df_test_predict \u001b[38;5;241m=\u001b[39m df_test\u001b[38;5;241m.\u001b[39mcopy()\n",
      "File \u001b[0;32m/opt/homebrew/lib/python3.11/site-packages/pandas/core/frame.py:5258\u001b[0m, in \u001b[0;36mDataFrame.drop\u001b[0;34m(self, labels, axis, index, columns, level, inplace, errors)\u001b[0m\n\u001b[1;32m   5110\u001b[0m \u001b[39mdef\u001b[39;00m \u001b[39mdrop\u001b[39m(\n\u001b[1;32m   5111\u001b[0m     \u001b[39mself\u001b[39m,\n\u001b[1;32m   5112\u001b[0m     labels: IndexLabel \u001b[39m=\u001b[39m \u001b[39mNone\u001b[39;00m,\n\u001b[0;32m   (...)\u001b[0m\n\u001b[1;32m   5119\u001b[0m     errors: IgnoreRaise \u001b[39m=\u001b[39m \u001b[39m\"\u001b[39m\u001b[39mraise\u001b[39m\u001b[39m\"\u001b[39m,\n\u001b[1;32m   5120\u001b[0m ) \u001b[39m-\u001b[39m\u001b[39m>\u001b[39m DataFrame \u001b[39m|\u001b[39m \u001b[39mNone\u001b[39;00m:\n\u001b[1;32m   5121\u001b[0m \u001b[39m    \u001b[39m\u001b[39m\"\"\"\u001b[39;00m\n\u001b[1;32m   5122\u001b[0m \u001b[39m    Drop specified labels from rows or columns.\u001b[39;00m\n\u001b[1;32m   5123\u001b[0m \n\u001b[0;32m   (...)\u001b[0m\n\u001b[1;32m   5256\u001b[0m \u001b[39m            weight  1.0     0.8\u001b[39;00m\n\u001b[1;32m   5257\u001b[0m \u001b[39m    \"\"\"\u001b[39;00m\n\u001b[0;32m-> 5258\u001b[0m     \u001b[39mreturn\u001b[39;00m \u001b[39msuper\u001b[39;49m()\u001b[39m.\u001b[39;49mdrop(\n\u001b[1;32m   5259\u001b[0m         labels\u001b[39m=\u001b[39;49mlabels,\n\u001b[1;32m   5260\u001b[0m         axis\u001b[39m=\u001b[39;49maxis,\n\u001b[1;32m   5261\u001b[0m         index\u001b[39m=\u001b[39;49mindex,\n\u001b[1;32m   5262\u001b[0m         columns\u001b[39m=\u001b[39;49mcolumns,\n\u001b[1;32m   5263\u001b[0m         level\u001b[39m=\u001b[39;49mlevel,\n\u001b[1;32m   5264\u001b[0m         inplace\u001b[39m=\u001b[39;49minplace,\n\u001b[1;32m   5265\u001b[0m         errors\u001b[39m=\u001b[39;49merrors,\n\u001b[1;32m   5266\u001b[0m     )\n",
      "File \u001b[0;32m/opt/homebrew/lib/python3.11/site-packages/pandas/core/generic.py:4549\u001b[0m, in \u001b[0;36mNDFrame.drop\u001b[0;34m(self, labels, axis, index, columns, level, inplace, errors)\u001b[0m\n\u001b[1;32m   4547\u001b[0m \u001b[39mfor\u001b[39;00m axis, labels \u001b[39min\u001b[39;00m axes\u001b[39m.\u001b[39mitems():\n\u001b[1;32m   4548\u001b[0m     \u001b[39mif\u001b[39;00m labels \u001b[39mis\u001b[39;00m \u001b[39mnot\u001b[39;00m \u001b[39mNone\u001b[39;00m:\n\u001b[0;32m-> 4549\u001b[0m         obj \u001b[39m=\u001b[39m obj\u001b[39m.\u001b[39;49m_drop_axis(labels, axis, level\u001b[39m=\u001b[39;49mlevel, errors\u001b[39m=\u001b[39;49merrors)\n\u001b[1;32m   4551\u001b[0m \u001b[39mif\u001b[39;00m inplace:\n\u001b[1;32m   4552\u001b[0m     \u001b[39mself\u001b[39m\u001b[39m.\u001b[39m_update_inplace(obj)\n",
      "File \u001b[0;32m/opt/homebrew/lib/python3.11/site-packages/pandas/core/generic.py:4591\u001b[0m, in \u001b[0;36mNDFrame._drop_axis\u001b[0;34m(self, labels, axis, level, errors, only_slice)\u001b[0m\n\u001b[1;32m   4589\u001b[0m         new_axis \u001b[39m=\u001b[39m axis\u001b[39m.\u001b[39mdrop(labels, level\u001b[39m=\u001b[39mlevel, errors\u001b[39m=\u001b[39merrors)\n\u001b[1;32m   4590\u001b[0m     \u001b[39melse\u001b[39;00m:\n\u001b[0;32m-> 4591\u001b[0m         new_axis \u001b[39m=\u001b[39m axis\u001b[39m.\u001b[39;49mdrop(labels, errors\u001b[39m=\u001b[39;49merrors)\n\u001b[1;32m   4592\u001b[0m     indexer \u001b[39m=\u001b[39m axis\u001b[39m.\u001b[39mget_indexer(new_axis)\n\u001b[1;32m   4594\u001b[0m \u001b[39m# Case for non-unique axis\u001b[39;00m\n\u001b[1;32m   4595\u001b[0m \u001b[39melse\u001b[39;00m:\n",
      "File \u001b[0;32m/opt/homebrew/lib/python3.11/site-packages/pandas/core/indexes/base.py:6699\u001b[0m, in \u001b[0;36mIndex.drop\u001b[0;34m(self, labels, errors)\u001b[0m\n\u001b[1;32m   6697\u001b[0m \u001b[39mif\u001b[39;00m mask\u001b[39m.\u001b[39many():\n\u001b[1;32m   6698\u001b[0m     \u001b[39mif\u001b[39;00m errors \u001b[39m!=\u001b[39m \u001b[39m\"\u001b[39m\u001b[39mignore\u001b[39m\u001b[39m\"\u001b[39m:\n\u001b[0;32m-> 6699\u001b[0m         \u001b[39mraise\u001b[39;00m \u001b[39mKeyError\u001b[39;00m(\u001b[39mf\u001b[39m\u001b[39m\"\u001b[39m\u001b[39m{\u001b[39;00m\u001b[39mlist\u001b[39m(labels[mask])\u001b[39m}\u001b[39;00m\u001b[39m not found in axis\u001b[39m\u001b[39m\"\u001b[39m)\n\u001b[1;32m   6700\u001b[0m     indexer \u001b[39m=\u001b[39m indexer[\u001b[39m~\u001b[39mmask]\n\u001b[1;32m   6701\u001b[0m \u001b[39mreturn\u001b[39;00m \u001b[39mself\u001b[39m\u001b[39m.\u001b[39mdelete(indexer)\n",
      "\u001b[0;31mKeyError\u001b[0m: \"['Name'] not found in axis\""
     ]
    }
   ],
   "source": [
    "df_train.drop([\"Name\"], axis=1, inplace=True)\n",
    "df_test.drop([\"Name\"], axis=1, inplace=True)\n",
    "\n",
    "df_test_predict = df_test.copy()\n",
    "df_test_predict.drop([\"PassengerId\"], axis=1, inplace=True)\n",
    "# Select the target\n",
    "y = df_train.Transported\n",
    "# Select the features\n",
    "X = df_train.drop(['Transported', \"PassengerId\"], axis=1)\n",
    "\n",
    "X_train, X_valid, y_train, y_valid = train_test_split(X, y, train_size=0.8, test_size=0.2, random_state=0)\n",
    "\n"
   ]
  },
  {
   "cell_type": "code",
   "execution_count": null,
   "metadata": {},
   "outputs": [
    {
     "name": "stdout",
     "output_type": "stream",
     "text": [
      "0.7918343875790684\n"
     ]
    }
   ],
   "source": [
    "model_rfc = RandomForestClassifier(max_leaf_nodes=150, n_estimators=500)\n",
    "print(mae(X_train, X_valid, y_train, y_valid, model_rfc))\n",
    "\n",
    "model_rfc.fit(X_train, y_train)\n",
    "predictions = model_rfc.predict(df_test_predict)\n",
    "\n",
    "predictions = predictions.astype(bool)"
   ]
  },
  {
   "cell_type": "code",
   "execution_count": null,
   "metadata": {},
   "outputs": [
    {
     "name": "stdout",
     "output_type": "stream",
     "text": [
      "4277\n"
     ]
    }
   ],
   "source": [
    "# Create the model\n",
    "# model = XGBRegressor(n_estimators=800,\n",
    "#                          learning_rate=0.05) \n",
    "output = pd.DataFrame({'PassengerId': df_test.PassengerId, 'Transported': predictions})\n",
    "output.to_csv('submission.csv', index=False)\n",
    "\n",
    "print(len(output.index))"
   ]
  }
 ],
 "metadata": {
  "kernelspec": {
   "display_name": "Python 3.11.3 64-bit",
   "language": "python",
   "name": "python3"
  },
  "language_info": {
   "codemirror_mode": {
    "name": "ipython",
    "version": 3
   },
   "file_extension": ".py",
   "mimetype": "text/x-python",
   "name": "python",
   "nbconvert_exporter": "python",
   "pygments_lexer": "ipython3",
   "version": "3.11.3"
  },
  "orig_nbformat": 4,
  "vscode": {
   "interpreter": {
    "hash": "b0fa6594d8f4cbf19f97940f81e996739fb7646882a419484c72d19e05852a7e"
   }
  }
 },
 "nbformat": 4,
 "nbformat_minor": 2
}
